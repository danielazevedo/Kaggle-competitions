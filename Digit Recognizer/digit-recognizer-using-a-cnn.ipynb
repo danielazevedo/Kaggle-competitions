{
 "cells": [
  {
   "cell_type": "code",
   "execution_count": 1,
   "metadata": {
    "_cell_guid": "b1076dfc-b9ad-4769-8c92-a6c4dae69d19",
    "_uuid": "8f2839f25d086af736a60e9eeb907d3b93b6e0e5"
   },
   "outputs": [
    {
     "name": "stderr",
     "output_type": "stream",
     "text": [
      "Using TensorFlow backend.\n"
     ]
    }
   ],
   "source": [
    "#Competition: https://www.kaggle.com/c/digit-recognizer\n",
    "#Score: 0.975\n",
    "\n",
    "import numpy as np\n",
    "import pandas as pd\n",
    "import matplotlib.pyplot as plt\n",
    "from keras.utils.np_utils import to_categorical\n",
    "from keras.models import Sequential\n",
    "from keras.layers import Conv2D\n",
    "from keras.layers import MaxPooling2D\n",
    "from keras.layers import Flatten\n",
    "from keras.layers import Dense, Dropout\n",
    "from keras.preprocessing.image import ImageDataGenerator\n",
    "from PIL import Image\n",
    "import csv\n",
    "from sklearn.model_selection import train_test_split\n",
    "\n",
    "\n",
    "\n",
    "def load_data(path, initial_pos = 1):    \n",
    "    df = pd.read_csv(path)\n",
    "    df_set = []\n",
    "    df_target = []\n",
    "    \n",
    "    for ind, row in df.iterrows():\n",
    "        num = row.values\n",
    "        df_set.append(num[initial_pos:].reshape(28,28))\n",
    "        df_target.append(num[initial_pos-1])\n",
    "    \n",
    "    return df_set, df_target\n",
    "\n",
    "\n",
    "X_train, y_train = load_data('/kaggle/input/digit-recognizer/train.csv', 1)\n",
    "X_test, _ = load_data('/kaggle/input/digit-recognizer/test.csv', 0)\n"
   ]
  },
  {
   "cell_type": "code",
   "execution_count": 2,
   "metadata": {},
   "outputs": [
    {
     "data": {
      "image/png": "[encoded data removed]",
      "text/plain": [
       "<Figure size 720x720 with 9 Axes>"
      ]
     },
     "metadata": {
      "needs_background": "light"
     },
     "output_type": "display_data"
    }
   ],
   "source": [
    "#plot the digits\n",
    "\n",
    "n_rows = 3\n",
    "n_cols = 3\n",
    "fig, ax = plt.subplots(nrows=n_rows, ncols=n_cols, figsize=(10, 10))\n",
    "counter = 0\n",
    "for row in range(n_rows):\n",
    "    for col in range(n_cols):\n",
    "        ax[row, col].imshow(X_train[counter], cmap='binary')\n",
    "        counter += 1"
   ]
  },
  {
   "cell_type": "code",
   "execution_count": 3,
   "metadata": {},
   "outputs": [
    {
     "name": "stdout",
     "output_type": "stream",
     "text": [
      "False\n",
      "False\n"
     ]
    }
   ],
   "source": [
    "#PREPROCESSING\n",
    "\n",
    "#Reshape datasets\n",
    "X_train = np.reshape(X_train, (-1, 28, 28, 1))\n",
    "X_test = np.reshape(X_test, (-1, 28, 28, 1))\n",
    "\n",
    "\n",
    "#MISSING VALUES: None\n",
    "print(np.isnan(X_train).any())\n",
    "print(np.isnan(X_test).any())\n",
    "\n",
    "\n",
    "#NORMALIZATION:\n",
    "X_train = X_train / 255\n",
    "X_test = X_test / 255\n",
    "\n",
    "\n",
    "#FEATURE SELECTION: not applied in this context\n",
    "\n",
    "\n",
    "#CLASSES CATEGORIZATION\n",
    "y_train = to_categorical(y_train, len(np.unique(y_train)))\n",
    "\n",
    "\n",
    "\n",
    "#Creation of a validation set to evaluate the obtained models\n",
    "X_train, X_val, y_train, y_val = train_test_split(X_train, y_train, test_size = 0.15)\n",
    "\n"
   ]
  },
  {
   "cell_type": "code",
   "execution_count": 4,
   "metadata": {},
   "outputs": [
    {
     "name": "stdout",
     "output_type": "stream",
     "text": [
      "Epoch 1/30\n",
      "558/557 [==============================] - 20s 35ms/step - loss: 1.3518 - accuracy: 0.5304\n",
      "Epoch 2/30\n",
      "558/557 [==============================] - 19s 34ms/step - loss: 0.7733 - accuracy: 0.7430\n",
      "Epoch 3/30\n",
      "558/557 [==============================] - 19s 34ms/step - loss: 0.6212 - accuracy: 0.7959\n",
      "Epoch 4/30\n",
      "558/557 [==============================] - 19s 34ms/step - loss: 0.5429 - accuracy: 0.8225\n",
      "Epoch 5/30\n",
      "558/557 [==============================] - 19s 35ms/step - loss: 0.4876 - accuracy: 0.8401\n",
      "Epoch 6/30\n",
      "558/557 [==============================] - 19s 34ms/step - loss: 0.4581 - accuracy: 0.8500\n",
      "Epoch 7/30\n",
      "558/557 [==============================] - 19s 35ms/step - loss: 0.4393 - accuracy: 0.8565\n",
      "Epoch 8/30\n",
      "558/557 [==============================] - 19s 34ms/step - loss: 0.4111 - accuracy: 0.8655\n",
      "Epoch 9/30\n",
      "558/557 [==============================] - 19s 34ms/step - loss: 0.4035 - accuracy: 0.8709\n",
      "Epoch 10/30\n",
      "558/557 [==============================] - 19s 34ms/step - loss: 0.3854 - accuracy: 0.8764\n",
      "Epoch 11/30\n",
      "558/557 [==============================] - 19s 34ms/step - loss: 0.3765 - accuracy: 0.8782\n",
      "Epoch 12/30\n",
      "558/557 [==============================] - 19s 34ms/step - loss: 0.3660 - accuracy: 0.8801\n",
      "Epoch 13/30\n",
      "558/557 [==============================] - 19s 34ms/step - loss: 0.3512 - accuracy: 0.8866\n",
      "Epoch 14/30\n",
      "558/557 [==============================] - 19s 34ms/step - loss: 0.3528 - accuracy: 0.8848\n",
      "Epoch 15/30\n",
      "558/557 [==============================] - 19s 34ms/step - loss: 0.3398 - accuracy: 0.8913\n",
      "Epoch 16/30\n",
      "558/557 [==============================] - 19s 34ms/step - loss: 0.3331 - accuracy: 0.8907\n",
      "Epoch 17/30\n",
      "558/557 [==============================] - 19s 35ms/step - loss: 0.3272 - accuracy: 0.8936\n",
      "Epoch 18/30\n",
      "558/557 [==============================] - 19s 34ms/step - loss: 0.3218 - accuracy: 0.8950\n",
      "Epoch 19/30\n",
      "558/557 [==============================] - 19s 34ms/step - loss: 0.3160 - accuracy: 0.8970\n",
      "Epoch 20/30\n",
      "558/557 [==============================] - 19s 34ms/step - loss: 0.3083 - accuracy: 0.9006\n",
      "Epoch 21/30\n",
      "558/557 [==============================] - 19s 35ms/step - loss: 0.3060 - accuracy: 0.9001\n",
      "Epoch 22/30\n",
      "558/557 [==============================] - 19s 34ms/step - loss: 0.2845 - accuracy: 0.9081\n",
      "Epoch 27/30\n",
      "558/557 [==============================] - 19s 34ms/step - loss: 0.2835 - accuracy: 0.9089\n",
      "Epoch 28/30\n",
      "558/557 [==============================] - 19s 34ms/step - loss: 0.2905 - accuracy: 0.9052\n",
      "Epoch 29/30\n",
      "558/557 [==============================] - 19s 34ms/step - loss: 0.2764 - accuracy: 0.9109\n",
      "Epoch 30/30\n",
      "558/557 [==============================] - 19s 34ms/step - loss: 0.2786 - accuracy: 0.9091\n"
     ]
    },
    {
     "data": {
      "text/plain": [
       "<keras.callbacks.callbacks.History at 0x7f733636cc50>"
      ]
     },
     "execution_count": 4,
     "metadata": {},
     "output_type": "execute_result"
    }
   ],
   "source": [
    "#CNN architecture\n",
    "\n",
    "\n",
    "# Initialising the CNN\n",
    "classifier = Sequential()\n",
    "\n",
    "classifier.add(Conv2D(32, (3, 3), input_shape = (28, 28, 1), activation = 'relu'))\n",
    "classifier.add(MaxPooling2D(pool_size = (2, 2)))\n",
    "classifier.add(Dropout(0.2))\n",
    "\n",
    "classifier.add(Conv2D(32, (3, 3), activation = 'relu'))\n",
    "classifier.add(MaxPooling2D(pool_size = (2, 2)))\n",
    "classifier.add(Dropout(0.2))\n",
    "\n",
    "classifier.add(Conv2D(64, (3, 3), activation = 'relu'))\n",
    "classifier.add(MaxPooling2D(pool_size = (2, 2)))\n",
    "classifier.add(Dropout(0.2))\n",
    "\n",
    "classifier.add(Flatten())\n",
    "\n",
    "classifier.add(Dense(units = 128, activation = 'relu'))\n",
    "classifier.add(Dense(units = 10, activation = 'softmax'))\n",
    "\n",
    "# Compiling the CNN\n",
    "classifier.compile(optimizer = 'adam', loss = 'categorical_crossentropy', metrics = ['accuracy'])\n",
    "\n",
    "\n",
    "#Data Augmentation\n",
    "datagen = ImageDataGenerator(\n",
    "    featurewise_center=False,\n",
    "    featurewise_std_normalization=False,\n",
    "    rotation_range=20,\n",
    "    width_shift_range=0.2,\n",
    "    height_shift_range=0.2,\n",
    "    horizontal_flip=False,\n",
    "    vertical_flip=False)\n",
    "\n",
    "\n",
    "datagen.fit(X_train)\n",
    "\n",
    "\n",
    "epochs = 30\n",
    "batch_size = 64\n",
    "\n",
    "classifier.fit_generator(datagen.flow(X_train, y_train, batch_size=batch_size),\n",
    "                         steps_per_epoch=len(X_train)/batch_size, \n",
    "                         epochs=epochs)\n"
   ]
  },
  {
   "cell_type": "code",
   "execution_count": 5,
   "metadata": {},
   "outputs": [
    {
     "name": "stdout",
     "output_type": "stream",
     "text": [
      "Validation Loss: 0.079, Validation Accuracy: 0.976\n"
     ]
    }
   ],
   "source": [
    "\n",
    "#Evaluate the model using the validation dataset\n",
    "val_loss, val_acc = classifier.evaluate(X_val, y_val, verbose=0)\n",
    "print(\"Validation Loss: %.3f, Validation Accuracy: %.3f\" % (val_loss, val_acc))\n",
    "\n",
    "\n",
    "#Test the CNN and save the result\n",
    "results = classifier.predict(X_test)\n",
    "\n",
    "\n",
    "#export the results\n",
    "with open('test_results.csv', 'w') as writeFile:\n",
    "    \n",
    "    writer = csv.writer(writeFile)\n",
    "    writer.writerow(['ImageId', 'Label'])\n",
    "    \n",
    "    counter = 1\n",
    "    for sample in results:\n",
    "        num = np.argmax(sample)\n",
    "        writer.writerow([counter, num])\n",
    "        \n",
    "        counter += 1\n",
    "\n",
    "writeFile.close()\n"
   ]
  }
 ],
 "metadata": {
  "kernelspec": {
   "display_name": "Python 3",
   "language": "python",
   "name": "python3"
  },
  "language_info": {
   "codemirror_mode": {
    "name": "ipython",
    "version": 3
   },
   "file_extension": ".py",
   "mimetype": "text/x-python",
   "name": "python",
   "nbconvert_exporter": "python",
   "pygments_lexer": "ipython3",
   "version": "3.6.6"
  }
 },
 "nbformat": 4,
 "nbformat_minor": 1
}
