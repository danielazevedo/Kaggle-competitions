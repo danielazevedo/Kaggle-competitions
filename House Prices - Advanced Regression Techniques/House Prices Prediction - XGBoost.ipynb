{
 "cells": [
  {
   "cell_type": "code",
   "execution_count": 1,
   "metadata": {
    "_cell_guid": "b1076dfc-b9ad-4769-8c92-a6c4dae69d19",
    "_uuid": "8f2839f25d086af736a60e9eeb907d3b93b6e0e5"
   },
   "outputs": [
    {
     "name": "stderr",
     "output_type": "stream",
     "text": [
      "Using TensorFlow backend.\n"
     ]
    }
   ],
   "source": [
    "#Competition: https://www.kaggle.com/c/house-prices-advanced-regression-techniques\n",
    "#Score: 0.157\n",
    "\n",
    "import numpy as np\n",
    "import pandas as pd\n",
    "from fancyimpute import KNN, SimpleFill\n",
    "import matplotlib.pyplot as plt\n",
    "import seaborn as sns\n",
    "from sklearn.ensemble import RandomForestClassifier\n",
    "from sklearn.metrics import accuracy_score\n",
    "import csv\n",
    "import os\n",
    "import xgboost\n",
    "from sklearn.linear_model import Lasso\n",
    "from sklearn.model_selection import GridSearchCV\n",
    "from sklearn.preprocessing import LabelEncoder, OneHotEncoder\n",
    "from sklearn.preprocessing import StandardScaler\n",
    "from sklearn.impute import SimpleImputer\n",
    "\n",
    "#Load the dataset\n",
    "def load_data():\n",
    "    train_df = pd.read_csv(\"/kaggle/input/house-prices-advanced-regression-techniques/train.csv\")\n",
    "    test_df = pd.read_csv(\"/kaggle/input/house-prices-advanced-regression-techniques/test.csv\")\n",
    "    \n",
    "    return train_df, test_df\n",
    "\n",
    "\n",
    "train_df, test_df = load_data()\n",
    "y_train = train_df['SalePrice']\n",
    "train_df.drop(['SalePrice'], axis=1, inplace = True)\n",
    "\n",
    "test_ids = test_df['Id'].values"
   ]
  },
  {
   "cell_type": "code",
   "execution_count": 2,
   "metadata": {},
   "outputs": [
    {
     "name": "stdout",
     "output_type": "stream",
     "text": [
      "PoolQC         0.995205\n",
      "MiscFeature    0.963014\n",
      "Alley          0.937671\n",
      "Fence          0.807534\n",
      "FireplaceQu    0.472603\n",
      "                 ...   \n",
      "HeatingQC      0.000000\n",
      "SaleType       0.000000\n",
      "TotalBsmtSF    0.000000\n",
      "BsmtUnfSF      0.000000\n",
      "Id             0.000000\n",
      "Length: 80, dtype: float64\n"
     ]
    },
    {
     "data": {
      "image/png": "[encoded data removed]",
      "text/plain": [
       "<Figure size 1008x504 with 1 Axes>"
      ]
     },
     "metadata": {
      "needs_background": "light"
     },
     "output_type": "display_data"
    }
   ],
   "source": [
    "#EDA\n",
    "\n",
    "#Remove features with NA percentage greater than 0.4\n",
    "nan_df = train_df.isnull().sum()/len(train_df)\n",
    "\n",
    "print(nan_df.sort_values()[::-1])\n",
    "\n",
    "plt.figure(figsize=(14, 7))\n",
    "plt.plot(nan_df.sort_values()[::-1], '.')\n",
    "plt.xlabel('Feature')\n",
    "plt.ylabel('NA Percentage')\n",
    "plt.show()\n",
    "\n",
    "\n",
    "train_df = train_df[[index for index, value in nan_df.items() if value < 0.4]]\n",
    "test_df = test_df[[index for index, value in nan_df.items() if value < 0.4]]\n"
   ]
  },
  {
   "cell_type": "code",
   "execution_count": 3,
   "metadata": {},
   "outputs": [
    {
     "name": "stdout",
     "output_type": "stream",
     "text": [
      "Nº Continuous variables: 19\n",
      "Nº of Discrete variables: 13\n",
      "Nº of Categorical variables: 38\n",
      "Nº of variables with Year information: 4\n"
     ]
    }
   ],
   "source": [
    "\n",
    "#Identify the different types of variables\n",
    "year_vars = [v for v in train_df.columns if 'Yr' in v or 'Year' in v]\n",
    "\n",
    "categorical_vars = [v for v in train_df.columns if train_df[v].dtype == 'O']\n",
    "\n",
    "discrete_vars = [\n",
    "    v for v in train_df.columns if v not in categorical_vars and v not in year_vars and len(train_df[v].unique()) < 15\n",
    "]\n",
    "\n",
    "continuous_vars = [\n",
    "    v for v in train_df.columns if v not in categorical_vars and v not in year_vars and v not in discrete_vars and v not in ['Id', 'SalePrice']\n",
    "]\n",
    "\n",
    "numerical_vars = continuous_vars + discrete_vars + year_vars\n",
    "\n",
    "print('Nº Continuous variables: {}'.format(len(continuous_vars)))\n",
    "print('Nº of Discrete variables: {}'.format(len(discrete_vars)))\n",
    "print('Nº of Categorical variables: {}'.format(len(categorical_vars)))\n",
    "\n",
    "print('Nº of variables with Year information: {}'.format(len(year_vars)))\n"
   ]
  },
  {
   "cell_type": "code",
   "execution_count": null,
   "metadata": {},
   "outputs": [],
   "source": []
  },
  {
   "cell_type": "code",
   "execution_count": 4,
   "metadata": {},
   "outputs": [
    {
     "name": "stdout",
     "output_type": "stream",
     "text": [
      "Imputing row 1/1460 with 0 missing, elapsed time: 0.592\n",
      "Imputing row 101/1460 with 1 missing, elapsed time: 0.594\n",
      "Imputing row 201/1460 with 0 missing, elapsed time: 0.596\n",
      "Imputing row 301/1460 with 0 missing, elapsed time: 0.597\n",
      "Imputing row 401/1460 with 0 missing, elapsed time: 0.599\n",
      "Imputing row 501/1460 with 0 missing, elapsed time: 0.601\n",
      "Imputing row 601/1460 with 0 missing, elapsed time: 0.602\n",
      "Imputing row 701/1460 with 0 missing, elapsed time: 0.604\n",
      "Imputing row 801/1460 with 0 missing, elapsed time: 0.606\n",
      "Imputing row 901/1460 with 1 missing, elapsed time: 0.607\n",
      "Imputing row 1001/1460 with 0 missing, elapsed time: 0.609\n",
      "Imputing row 1101/1460 with 0 missing, elapsed time: 0.610\n",
      "Imputing row 1201/1460 with 0 missing, elapsed time: 0.612\n",
      "Imputing row 1301/1460 with 1 missing, elapsed time: 0.614\n",
      "Imputing row 1401/1460 with 0 missing, elapsed time: 0.615\n"
     ]
    },
    {
     "name": "stderr",
     "output_type": "stream",
     "text": [
      "/opt/conda/lib/python3.6/site-packages/fancyimpute/solver.py:55: UserWarning: Input matrix is not missing any values\n",
      "  warnings.warn(\"Input matrix is not missing any values\")\n"
     ]
    },
    {
     "name": "stdout",
     "output_type": "stream",
     "text": [
      "Imputing row 1/1460 with 0 missing, elapsed time: 0.436\n",
      "Imputing row 101/1460 with 0 missing, elapsed time: 0.437\n",
      "Imputing row 201/1460 with 0 missing, elapsed time: 0.437\n",
      "Imputing row 301/1460 with 0 missing, elapsed time: 0.438\n",
      "Imputing row 401/1460 with 0 missing, elapsed time: 0.438\n",
      "Imputing row 501/1460 with 0 missing, elapsed time: 0.438\n",
      "Imputing row 601/1460 with 0 missing, elapsed time: 0.439\n",
      "Imputing row 701/1460 with 0 missing, elapsed time: 0.439\n",
      "Imputing row 801/1460 with 0 missing, elapsed time: 0.440\n",
      "Imputing row 901/1460 with 0 missing, elapsed time: 0.440\n",
      "Imputing row 1001/1460 with 0 missing, elapsed time: 0.441\n",
      "Imputing row 1101/1460 with 0 missing, elapsed time: 0.441\n",
      "Imputing row 1201/1460 with 0 missing, elapsed time: 0.441\n",
      "Imputing row 1301/1460 with 0 missing, elapsed time: 0.442\n",
      "Imputing row 1401/1460 with 0 missing, elapsed time: 0.442\n",
      "Imputing row 1/1460 with 0 missing, elapsed time: 0.357\n",
      "Imputing row 101/1460 with 0 missing, elapsed time: 0.359\n",
      "Imputing row 201/1460 with 0 missing, elapsed time: 0.360\n",
      "Imputing row 301/1460 with 0 missing, elapsed time: 0.361\n",
      "Imputing row 401/1460 with 0 missing, elapsed time: 0.362\n",
      "Imputing row 501/1460 with 0 missing, elapsed time: 0.363\n",
      "Imputing row 601/1460 with 0 missing, elapsed time: 0.364\n",
      "Imputing row 701/1460 with 0 missing, elapsed time: 0.366\n",
      "Imputing row 801/1460 with 0 missing, elapsed time: 0.367\n",
      "Imputing row 901/1460 with 0 missing, elapsed time: 0.367\n",
      "Imputing row 1001/1460 with 0 missing, elapsed time: 0.369\n",
      "Imputing row 1101/1460 with 0 missing, elapsed time: 0.369\n",
      "Imputing row 1201/1460 with 0 missing, elapsed time: 0.371\n",
      "Imputing row 1301/1460 with 0 missing, elapsed time: 0.372\n",
      "Imputing row 1401/1460 with 0 missing, elapsed time: 0.373\n",
      "Imputing row 1/1459 with 0 missing, elapsed time: 0.536\n",
      "Imputing row 101/1459 with 0 missing, elapsed time: 0.538\n",
      "Imputing row 201/1459 with 0 missing, elapsed time: 0.540\n",
      "Imputing row 301/1459 with 0 missing, elapsed time: 0.541\n",
      "Imputing row 401/1459 with 0 missing, elapsed time: 0.542\n",
      "Imputing row 501/1459 with 0 missing, elapsed time: 0.544\n",
      "Imputing row 601/1459 with 0 missing, elapsed time: 0.545\n",
      "Imputing row 701/1459 with 0 missing, elapsed time: 0.547\n",
      "Imputing row 801/1459 with 0 missing, elapsed time: 0.549\n",
      "Imputing row 901/1459 with 0 missing, elapsed time: 0.550\n",
      "Imputing row 1001/1459 with 0 missing, elapsed time: 0.552\n",
      "Imputing row 1101/1459 with 0 missing, elapsed time: 0.553\n",
      "Imputing row 1201/1459 with 0 missing, elapsed time: 0.555\n",
      "Imputing row 1301/1459 with 0 missing, elapsed time: 0.557\n",
      "Imputing row 1401/1459 with 0 missing, elapsed time: 0.558\n",
      "Imputing row 1/1459 with 0 missing, elapsed time: 0.453\n",
      "Imputing row 101/1459 with 0 missing, elapsed time: 0.454\n",
      "Imputing row 201/1459 with 0 missing, elapsed time: 0.454\n",
      "Imputing row 301/1459 with 0 missing, elapsed time: 0.455\n",
      "Imputing row 401/1459 with 0 missing, elapsed time: 0.455\n",
      "Imputing row 501/1459 with 0 missing, elapsed time: 0.456\n",
      "Imputing row 601/1459 with 0 missing, elapsed time: 0.456\n",
      "Imputing row 701/1459 with 0 missing, elapsed time: 0.457\n",
      "Imputing row 801/1459 with 0 missing, elapsed time: 0.458\n",
      "Imputing row 901/1459 with 0 missing, elapsed time: 0.459\n",
      "Imputing row 1001/1459 with 0 missing, elapsed time: 0.459\n",
      "Imputing row 1101/1459 with 0 missing, elapsed time: 0.460\n",
      "Imputing row 1201/1459 with 0 missing, elapsed time: 0.461\n",
      "Imputing row 1301/1459 with 0 missing, elapsed time: 0.461\n",
      "Imputing row 1401/1459 with 0 missing, elapsed time: 0.462\n",
      "Imputing row 1/1459 with 0 missing, elapsed time: 0.347\n",
      "Imputing row 101/1459 with 1 missing, elapsed time: 0.348\n",
      "Imputing row 201/1459 with 0 missing, elapsed time: 0.350\n",
      "Imputing row 301/1459 with 0 missing, elapsed time: 0.351\n",
      "Imputing row 401/1459 with 0 missing, elapsed time: 0.352\n",
      "Imputing row 501/1459 with 0 missing, elapsed time: 0.353\n",
      "Imputing row 601/1459 with 0 missing, elapsed time: 0.353\n",
      "Imputing row 701/1459 with 0 missing, elapsed time: 0.355\n",
      "Imputing row 801/1459 with 0 missing, elapsed time: 0.356\n",
      "Imputing row 901/1459 with 0 missing, elapsed time: 0.357\n",
      "Imputing row 1001/1459 with 0 missing, elapsed time: 0.358\n",
      "Imputing row 1101/1459 with 0 missing, elapsed time: 0.359\n",
      "Imputing row 1201/1459 with 0 missing, elapsed time: 0.359\n",
      "Imputing row 1301/1459 with 0 missing, elapsed time: 0.360\n",
      "Imputing row 1401/1459 with 0 missing, elapsed time: 0.361\n"
     ]
    }
   ],
   "source": [
    "\n",
    "#Fill NA in numerical variables\n",
    "#use the 3 closest instances for data imputation\n",
    "\n",
    "train_df.loc[:,continuous_vars] = KNN(k=5).fit_transform(train_df[continuous_vars])\n",
    "train_df.loc[:,discrete_vars] = KNN(k=5).fit_transform(train_df[discrete_vars])\n",
    "train_df.loc[:,year_vars] = KNN(k=5).fit_transform(train_df[year_vars])\n",
    "\n",
    "test_df.loc[:,continuous_vars] = KNN(k=5).fit_transform(test_df[continuous_vars])\n",
    "test_df.loc[:,discrete_vars] = KNN(k=5).fit_transform(test_df[discrete_vars])\n",
    "test_df.loc[:,year_vars] = KNN(k=5).fit_transform(test_df[year_vars])\n",
    "\n",
    "\n",
    "#Fill NA in categorical variables\n",
    "#add the 'Missing' label to missing data\n",
    "\n",
    "imputer = SimpleImputer(strategy='constant', fill_value = 'Missing')\n",
    "\n",
    "imputer.fit(train_df[categorical_vars])\n",
    "train_df[categorical_vars] = imputer.transform(train_df[categorical_vars])\n",
    "test_df[categorical_vars] = imputer.transform(test_df[categorical_vars])\n"
   ]
  },
  {
   "cell_type": "code",
   "execution_count": 5,
   "metadata": {},
   "outputs": [
    {
     "name": "stdout",
     "output_type": "stream",
     "text": [
      "NA in Train dataset:  0\n",
      "NA in Test dataset:  0\n"
     ]
    }
   ],
   "source": [
    "print(\"NA in Train dataset: \", train_df.isnull().sum().sum())\n",
    "print(\"NA in Test dataset: \", test_df.isnull().sum().sum())"
   ]
  },
  {
   "cell_type": "code",
   "execution_count": 6,
   "metadata": {},
   "outputs": [],
   "source": [
    "#Categorical Encoding: One Hot Enconding\n",
    "\n",
    "encoder = OneHotEncoder(categories = 'auto', handle_unknown = 'ignore', sparse = False)\n",
    "encoder.fit(train_df[categorical_vars])\n",
    "\n",
    "\n",
    "train_df = pd.concat([train_df, pd.DataFrame(encoder.transform(train_df[categorical_vars]), columns = encoder.get_feature_names())], axis=1, sort=False)\n",
    "test_df = pd.concat([test_df, pd.DataFrame(encoder.transform(test_df[categorical_vars]), columns = encoder.get_feature_names())], axis=1, sort=False)\n",
    "\n",
    "train_df.drop(categorical_vars, axis=1, inplace=True)\n",
    "test_df.drop(categorical_vars, axis=1, inplace=True)\n",
    "\n",
    "\n",
    "#Normalization\n",
    "\n",
    "sc = StandardScaler()\n",
    "sc.fit(train_df[numerical_vars])\n",
    "train_df[numerical_vars] = sc.transform(train_df[numerical_vars])\n",
    "test_df[numerical_vars] = sc.transform(test_df[numerical_vars])\n",
    "\n"
   ]
  },
  {
   "cell_type": "code",
   "execution_count": null,
   "metadata": {},
   "outputs": [],
   "source": []
  },
  {
   "cell_type": "code",
   "execution_count": 7,
   "metadata": {},
   "outputs": [
    {
     "name": "stdout",
     "output_type": "stream",
     "text": [
      "Number of Initial Features:  282\n",
      "Relevant Features (26): Index(['OverallQual', 'YearBuilt', 'YearRemodAdd', 'MasVnrArea', 'TotalBsmtSF',\n",
      "       '1stFlrSF', 'GrLivArea', 'FullBath', 'TotRmsAbvGrd', 'Fireplaces',\n",
      "       'GarageYrBlt', 'GarageCars', 'GarageArea', 'x7_NridgHt', 'x17_Ex',\n",
      "       'x17_Gd', 'x17_TA', 'x19_PConc', 'x20_Ex', 'x20_TA', 'x23_GLQ',\n",
      "       'x26_Ex', 'x29_Ex', 'x29_TA', 'x32_Fin', 'x32_Unf'],\n",
      "      dtype='object')\n"
     ]
    }
   ],
   "source": [
    "#Feature Selection - Correlation\n",
    "\n",
    "print(\"Number of Initial Features: \", len(train_df.columns))\n",
    "train_df['SalePrice'] = y_train\n",
    "cor = train_df.corr()\n",
    "\n",
    "#plt.figure(figsize=(12,10))\n",
    "#sns.heatmap(cor, annot=True, cmap=plt.cm.Reds)\n",
    "#plt.show()\n",
    "\n",
    "cor_price = abs(cor['SalePrice'])\n",
    "relevant_features = cor_price[cor_price>0.4].index\n",
    "relevant_features = relevant_features.drop(['SalePrice'])  \n",
    "\n",
    "print('Relevant Features ({}): {}'.format(len(relevant_features), relevant_features))\n",
    "\n",
    "\n",
    "train_df = train_df.loc[:, relevant_features]\n",
    "test_df = test_df.loc[:, relevant_features]\n"
   ]
  },
  {
   "cell_type": "code",
   "execution_count": 8,
   "metadata": {},
   "outputs": [
    {
     "name": "stderr",
     "output_type": "stream",
     "text": [
      "/opt/conda/lib/python3.6/site-packages/xgboost/core.py:587: FutureWarning: Series.base is deprecated and will be removed in a future version\n",
      "  if getattr(data, 'base', None) is not None and \\\n",
      "/opt/conda/lib/python3.6/site-packages/xgboost/core.py:588: FutureWarning: Series.base is deprecated and will be removed in a future version\n",
      "  data.base is not None and isinstance(data, np.ndarray) \\\n"
     ]
    },
    {
     "name": "stdout",
     "output_type": "stream",
     "text": [
      "[12:32:10] WARNING: /workspace/src/objective/regression_obj.cu:152: reg:linear is now deprecated in favor of reg:squarederror.\n",
      "Best Parms {'learning_rate': 0.005, 'max_depth': 5, 'n_estimators': 1000}\n",
      "Best Score:  0.8602312647577743\n"
     ]
    }
   ],
   "source": [
    "#XGBOOST\n",
    "\n",
    "parameters = {\n",
    "    'max_depth': [5, 10],\n",
    "    'n_estimators': [500, 1000],\n",
    "    'learning_rate': [0.01, 0.001, 0.005]\n",
    "}\n",
    "\n",
    "#Cross Validation\n",
    "grid_search = GridSearchCV(\n",
    "    estimator=xgboost.XGBRegressor(),\n",
    "    param_grid=parameters,\n",
    "    n_jobs = 10,\n",
    "    cv = 10\n",
    ")\n",
    "\n",
    "\n",
    "grid_search.fit(train_df, y_train)\n",
    "print(\"Best Parms\", grid_search.best_params_)\n",
    "print(\"Best Score: \", grid_search.best_score_)\n",
    "best_model = grid_search.best_estimator_\n",
    "\n",
    "\n"
   ]
  },
  {
   "cell_type": "code",
   "execution_count": 9,
   "metadata": {},
   "outputs": [],
   "source": [
    "results = best_model.predict(test_df)\n",
    "\n",
    "#export the results\n",
    "with open('test_results.csv', 'w') as writeFile:\n",
    "    \n",
    "    writer = csv.writer(writeFile)\n",
    "    writer.writerow(['Id', 'SalePrice'])\n",
    "    \n",
    "    for ind, sample in enumerate(results):\n",
    "        writer.writerow([test_ids[ind], sample])\n",
    "\n",
    "writeFile.close()"
   ]
  },
  {
   "cell_type": "code",
   "execution_count": null,
   "metadata": {},
   "outputs": [],
   "source": []
  }
 ],
 "metadata": {
  "kernelspec": {
   "display_name": "Python 3",
   "language": "python",
   "name": "python3"
  },
  "language_info": {
   "codemirror_mode": {
    "name": "ipython",
    "version": 3
   },
   "file_extension": ".py",
   "mimetype": "text/x-python",
   "name": "python",
   "nbconvert_exporter": "python",
   "pygments_lexer": "ipython3",
   "version": "3.6.6"
  }
 },
 "nbformat": 4,
 "nbformat_minor": 4
}
