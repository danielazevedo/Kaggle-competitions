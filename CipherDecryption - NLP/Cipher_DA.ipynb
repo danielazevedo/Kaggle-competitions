{
  "nbformat": 4,
  "nbformat_minor": 0,
  "metadata": {
    "colab": {
      "name": "Cipher_DA.ipynb",
      "provenance": [],
      "collapsed_sections": [],
      "toc_visible": true
    },
    "kernelspec": {
      "name": "python3",
      "display_name": "Python 3"
    }
  },
  "cells": [
    {
      "cell_type": "code",
      "metadata": {
        "id": "5XgKTMRwUHu6",
        "colab_type": "code",
        "colab": {}
      },
      "source": [
        "\n",
        "# Author: Daniel Azevedo\n",
        "\n",
        "# This code was adapted from the http://lazyprogrammer.me, who provided the code \n",
        "# in the context of the course https://www.udemy.com/data-science-natural-language-processing-in-python\n",
        "\n",
        "\n",
        "import numpy as np\n",
        "import matplotlib.pyplot as plt\n",
        "\n",
        "import string\n",
        "import random\n",
        "import re\n",
        "import requests\n",
        "import os\n",
        "import textwrap\n",
        "\n",
        "from random import random, sample, shuffle, randint\n",
        "from operator import itemgetter"
      ],
      "execution_count": 0,
      "outputs": []
    },
    {
      "cell_type": "markdown",
      "metadata": {
        "id": "kDehsWxkhINC",
        "colab_type": "text"
      },
      "source": [
        "The goal of this notebook is to **Decrypt a Substitution Cipher**, based on a Language Model represented by a **Bi-gram**. The algorithm used for decription will be a **Evolutionay Algorithm**"
      ]
    },
    {
      "cell_type": "markdown",
      "metadata": {
        "id": "pNL_t4LbfCm-",
        "colab_type": "text"
      },
      "source": [
        "## Create Substitution Cipher"
      ]
    },
    {
      "cell_type": "code",
      "metadata": {
        "id": "zMrtqw5DUNp3",
        "colab_type": "code",
        "colab": {}
      },
      "source": [
        "### Create Substitution Cipher\n",
        "\n",
        "def create_cipher():\n",
        "  \n",
        "  letters_1 = list(string.ascii_lowercase)\n",
        "  letters_2 = list(string.ascii_lowercase)\n",
        "\n",
        "  true_cypher = {}\n",
        "\n",
        "  # shuffle\n",
        "  shuffle(letters_2)\n",
        "\n",
        "  # create mapping between the letters\n",
        "  for i, j in zip(letters_1, letters_2):\n",
        "    true_cypher[j] = j\n",
        "\n",
        "  return true_cypher\n"
      ],
      "execution_count": 0,
      "outputs": []
    },
    {
      "cell_type": "markdown",
      "metadata": {
        "id": "aEQn9Sh5fK_n",
        "colab_type": "text"
      },
      "source": [
        "## Create the Language Model class\n",
        "\n",
        "The Language Model learns the probability of a specific sequence of letters, using a Bi-gram and Markov Assumption"
      ]
    },
    {
      "cell_type": "code",
      "metadata": {
        "id": "IyAGzd5iUQ_W",
        "colab_type": "code",
        "colab": {}
      },
      "source": [
        "### Create the Language Model class: N-Gram using Markov Assumption\n",
        "\n",
        "class LanguageModel:\n",
        "  def __init__(self, ngram, pi):\n",
        "    self.ngram = ngram\n",
        "    self.pi = pi\n",
        "\n",
        "\n",
        "  #Compute the ngram probabilities\n",
        "  def train(self, text_name):\n",
        "\n",
        "    # for replacing non-alpha characters\n",
        "    regex = re.compile('[^a-zA-Z]')\n",
        "\n",
        "    # load in words\n",
        "    for line in open(text_name):\n",
        "      line = line.rstrip()\n",
        "\n",
        "      # exclude blank lines\n",
        "      if line:\n",
        "        # replace all non-alpha characters with space\n",
        "        line = regex.sub(' ', line) \n",
        "\n",
        "        # split the tokens in the line and lowercase\n",
        "        words = line.lower().split()\n",
        "\n",
        "\n",
        "        for word in words:\n",
        "          \n",
        "          # first letter\n",
        "          ch0 = word[0]\n",
        "          self.update_pi(ch0)\n",
        "\n",
        "          # other letters\n",
        "          for ch1 in word[1:]:\n",
        "            self.update_probabilities(ch0, ch1)\n",
        "            ch0 = ch1\n",
        "\n",
        "    # normalize the probabilities\n",
        "    self.pi /= self.pi.sum()\n",
        "    self.ngram /= self.ngram.sum(axis=1, keepdims=True)\n",
        "\n",
        "\n",
        "  # Compute Initial probabilities\n",
        "  def update_pi(self, ch):\n",
        "    i = ord(ch) - 97\n",
        "    self.pi[i] += 1\n",
        "\n",
        "\n",
        "  def update_probabilities(self, ch1, ch2):\n",
        "    # ord('a') = 97\n",
        "    \n",
        "    i = ord(ch1) - 97\n",
        "    j = ord(ch2) - 97\n",
        "    \n",
        "    self.ngram[i,j] += 1\n",
        "\n",
        "\n",
        "  # Compute the log-probability of a word\n",
        "  def compute_word_prob(self, word):\n",
        "\n",
        "    i = ord(word[0]) - 97\n",
        "    logp = np.log(self.pi[i])\n",
        "\n",
        "    for ch in word[1:]:\n",
        "      j = ord(ch) - 97\n",
        "      logp += np.log(self.ngram[i, j])\n",
        "      i = j\n",
        "\n",
        "    return logp\n",
        "\n",
        "\n",
        "  # Compute the probability of a sequence of words\n",
        "  def compute_sequence_prob(self, words):\n",
        "    \n",
        "    #split string into words\n",
        "    if type(words) == str:\n",
        "      words = words.split()\n",
        "\n",
        "    logp = 0\n",
        "    for word in words:\n",
        "      logp += self.compute_word_prob(word)\n",
        "    return logp\n",
        "\n"
      ],
      "execution_count": 0,
      "outputs": []
    },
    {
      "cell_type": "code",
      "metadata": {
        "id": "sEUrJ4J_UU-w",
        "colab_type": "code",
        "colab": {}
      },
      "source": [
        "### create a markov model based on an English dataset\n",
        "# is an edit of https://www.gutenberg.org/ebooks/2701\n",
        "# (I removed the front and back matter)\n",
        "\n",
        "\n",
        "def get_text_file():\n",
        "  # Get the test for training the model\n",
        "  if not os.path.exists('moby_dick.txt'):\n",
        "    print(\"Downloading moby dick...\")\n",
        "    r = requests.get('https://lazyprogrammer.me/course_files/moby_dick.txt')\n",
        "    with open('moby_dick.txt', 'w') as f:\n",
        "      f.write(r.content.decode())\n",
        "\n",
        "  "
      ],
      "execution_count": 0,
      "outputs": []
    },
    {
      "cell_type": "code",
      "metadata": {
        "id": "s_wteo68ui__",
        "colab_type": "code",
        "colab": {}
      },
      "source": [
        ""
      ],
      "execution_count": 0,
      "outputs": []
    },
    {
      "cell_type": "code",
      "metadata": {
        "id": "3FxNj6V2UdM3",
        "colab_type": "code",
        "colab": {}
      },
      "source": [
        "### encode a message\n",
        "\n",
        "# this is a random excerpt from Project Gutenberg's\n",
        "# The Adventures of Sherlock Holmes, by Arthur Conan Doyle\n",
        "# https://www.gutenberg.org/ebooks/1661\n",
        "\n",
        "original_message = '''I then lounged down the street and found,\n",
        "as I expected, that there was a mews in a lane which runs down\n",
        "by one wall of the garden. I lent the ostlers a hand in rubbing\n",
        "down their horses, and received in exchange twopence, a glass of\n",
        "half-and-half, two fills of shag tobacco, and as much information\n",
        "as I could desire about Miss Adler, to say nothing of half a dozen\n",
        "other people in the neighbourhood in whom I was not in the least\n",
        "interested, but whose biographies I was compelled to listen to.\n",
        "'''\n"
      ],
      "execution_count": 0,
      "outputs": []
    },
    {
      "cell_type": "markdown",
      "metadata": {
        "id": "K0nJ94NLgCPL",
        "colab_type": "text"
      },
      "source": [
        "# Function to Encode and Decode a specific message"
      ]
    },
    {
      "cell_type": "code",
      "metadata": {
        "id": "LRuQ15YJUgDm",
        "colab_type": "code",
        "colab": {}
      },
      "source": [
        "# Function to encode a message\n",
        "def encode_message(msg, cipher):\n",
        "\n",
        "  msg = msg.lower()\n",
        "\n",
        "  # replace non-alpha characters\n",
        "  msg = regex.sub(' ', msg)\n",
        "\n",
        "  # make the encoded message\n",
        "  coded_msg = []\n",
        "  for ch in msg:\n",
        "    \n",
        "    #default\n",
        "    coded_ch = ch\n",
        "    if ch in cipher:\n",
        "      coded_ch = cipher[ch]\n",
        "    coded_msg.append(coded_ch)\n",
        "\n",
        "  return ''.join(coded_msg)\n",
        "\n",
        "\n",
        "# Function to decode a message\n",
        "def decode_message(msg, cipher):\n",
        "  decoded_msg = []\n",
        "  for ch in msg:\n",
        "\n",
        "    #default\n",
        "    decoded_ch = ch\n",
        "    if ch in cipher:\n",
        "      decoded_ch = cipher[ch]\n",
        "    decoded_msg.append(decoded_ch)\n",
        "\n",
        "  return ''.join(decoded_msg)\n",
        "\n"
      ],
      "execution_count": 0,
      "outputs": []
    },
    {
      "cell_type": "markdown",
      "metadata": {
        "id": "-6WEVVbTfSBb",
        "colab_type": "text"
      },
      "source": [
        "# Create the Evolutionary Algorithm\n",
        "\n",
        "The goal is to discover the substitution cipher using an Evolutionary Algorithm"
      ]
    },
    {
      "cell_type": "code",
      "metadata": {
        "id": "dxsZtRATv_4y",
        "colab_type": "code",
        "colab": {}
      },
      "source": [
        "\n",
        "class EvolutionaryAlgorithm:\n",
        "  def __init__(self, n_pop, prob_mutation, prob_crossover, elitism_size, lm):\n",
        "    \n",
        "    self.n_pop = n_pop\n",
        "    self.prob_mutation = prob_mutation\n",
        "    self.prob_crossover = prob_crossover\n",
        "    self.elitism_size = elitism_size\n",
        "    self.best_map = None\n",
        "    self.model = lm\n",
        "\n",
        "\n",
        "  def init_population(self, n):\n",
        "\n",
        "    population = []\n",
        "    for _ in range(n):\n",
        "      indv = list(string.ascii_lowercase)\n",
        "      shuffle(indv)\n",
        "      population.append(indv)\n",
        "\n",
        "    return population\n",
        "  \n",
        "\n",
        "  #One point Crossover\n",
        "  def crossover(self, indv_1, indv_2):\n",
        "    \n",
        "    if random() < self.prob_crossover:\n",
        "        \n",
        "        pos = randint(0,len(indv_1))\n",
        "        f1 = indv_1[0:pos] + indv_2[pos:]\n",
        "        f2 = indv_2[0:pos] + indv_1[pos:]\n",
        "        return [f1, f2]\n",
        "        \n",
        "    else:\n",
        "      return [indv_1,indv_2]\n",
        "\n",
        "\n",
        "  def swap_mutation(self, indv):\n",
        "    new_indv = indv.copy()\n",
        "\n",
        "    if  random() < self.prob_mutation:\n",
        "      i = np.random.randint(len(new_indv))\n",
        "      j = np.random.randint(len(new_indv))\n",
        "\n",
        "      new_indv[i], new_indv[j] = new_indv[j], new_indv[i]\n",
        "\n",
        "    return new_indv\n",
        "    \n",
        "\n",
        "  def elitism(self, population, offspring):\n",
        "    \n",
        "    comp_elite = int(len(population) * self.elitism_size)\n",
        "    \n",
        "    offspring.sort()\n",
        "    population.sort()\n",
        "    \n",
        "    new_population = population[:comp_elite] + offspring[:len(population) - comp_elite]\n",
        "    \n",
        "    return new_population\n",
        "\n",
        "\n",
        "  def evaluate_population(self, population, original_letters):\n",
        "\n",
        "    scores = {}\n",
        "    for indv in population:\n",
        "\n",
        "      current_map = {}\n",
        "      for k, v in zip(original_letters, indv):\n",
        "        current_map[k] = v\n",
        "\n",
        "      decoded_message = decode_message(encoded_message, current_map)\n",
        "      score = self.model.compute_sequence_prob(decoded_message)\n",
        "\n",
        "      scores[''.join(indv)] = [score, current_map]\n",
        "      \n",
        "    return scores\n",
        "\n",
        "\n",
        "  def evolve(self):\n",
        "\n",
        "    num_iters = 700\n",
        "\n",
        "    scores = np.zeros(num_iters)\n",
        "    best_indv = None\n",
        "    best_score = float('-inf')\n",
        "\n",
        "    population = self.init_population(self.n_pop)\n",
        "\n",
        "    for it in range(num_iters):\n",
        "      \n",
        "\n",
        "      pool = population\n",
        "      \n",
        "      #Crossover\n",
        "      parents = []\n",
        "      for i in  range(0, self.n_pop - 1, 2):\n",
        "          indiv_1= pool[i]\n",
        "          indiv_2 = pool[i+1]\n",
        "          parents.extend(self.crossover(indiv_1, indiv_2)) \n",
        "      \n",
        "\n",
        "      #Mutation\n",
        "      offspring = []\n",
        "      for indv in parents:\n",
        "        offspring.append(self.swap_mutation(indv))\n",
        "\n",
        "\n",
        "      #Select the best inviduals: Elitism\n",
        "      population = self.elitism(population, offspring)\n",
        "\n",
        "      pop_scores = self.evaluate_population(population, list(string.ascii_lowercase))\n",
        "\n",
        "      for s in pop_scores:\n",
        "\n",
        "        if pop_scores[s][0] > best_score:\n",
        "          best_indv = s\n",
        "          self.best_map = pop_scores[s][1]\n",
        "          best_score = pop_scores[s][0]\n",
        "\n",
        "      scores[it] = np.mean([pop_scores[s][0] for s in pop_scores])\n",
        "\n",
        "      if it % 100 == 0:\n",
        "        print(\"Iteration \", it, \": score:\", round(scores[it], 3), \"best so far:\", round(best_score, 3))\n",
        "    \n",
        "    plt.figure(figsize=(12, 8))\n",
        "    plt.plot(scores)\n",
        "    plt.xlabel('Iterations')\n",
        "    plt.ylabel('Score')\n",
        "    plt.title('Score Evolution')\n",
        "    plt.show()\n",
        "\n"
      ],
      "execution_count": 0,
      "outputs": []
    },
    {
      "cell_type": "code",
      "metadata": {
        "id": "Ogy2tFp2UjEW",
        "colab_type": "code",
        "colab": {
          "base_uri": "https://localhost:8080/",
          "height": 819
        },
        "outputId": "faf27438-6d39-4478-e768-7a07e6716c33"
      },
      "source": [
        "#Initialize the language model\n",
        "\n",
        "get_text_file()\n",
        "n_letters = len(list(string.ascii_lowercase))\n",
        "regex = re.compile('[^a-zA-Z]')\n",
        "\n",
        "#Create and Train the Language Model\n",
        "l_model = LanguageModel(np.ones((n_letters, n_letters)), \n",
        "                        np.zeros(n_letters))\n",
        "\n",
        "l_model.train('moby_dick.txt')\n",
        "\n",
        "#Create True cipher\n",
        "true_cipher = create_cipher()\n",
        "\n",
        "#Encode the message according to the created cipher\n",
        "encoded_message = encode_message(original_message, true_cipher)\n",
        "\n",
        "\n",
        "# Create the EvolutionaryAlgorithm instance\n",
        "ea = EvolutionaryAlgorithm(n_pop = 30,\n",
        "                           prob_mutation = 1,\n",
        "                           prob_crossover = 0,\n",
        "                           elitism_size = 0.5,\n",
        "                           lm = l_model)\n",
        "\n",
        "# Evolve the algorithm in order to identify the cipher\n",
        "ea.evolve()\n",
        "\n",
        "\n",
        "# Decode message accoring to the predicted cipher\n",
        "decoded_message = decode_message(encoded_message, ea.best_map)\n",
        "\n",
        "print(\"\\n\\n\\nScore of the Decoded Message vs the True Message:\")\n",
        "print(\" LL of decoded message:\", round(l_model.compute_sequence_prob(decoded_message), 3))\n",
        "print(\" LL of true message:\", round(l_model.compute_sequence_prob(regex.sub(' ', original_message.lower())), 3))\n",
        "\n",
        "\n",
        "# Print the wrong letters\n",
        "print(\"\\n\\nWrong letter in the predicted cipher:\")\n",
        "for true, v in true_cipher.items():\n",
        "  pred = ea.best_map[v]\n",
        "  if true != pred:\n",
        "    print(\" True: %s, Predicted: %s\" % (true, pred))\n",
        "  "
      ],
      "execution_count": 247,
      "outputs": [
        {
          "output_type": "stream",
          "text": [
            "Iteration  0 : score: -2007.98 best so far: -1574.531\n",
            "Iteration  100 : score: -1674.046 best so far: -1298.377\n",
            "Iteration  200 : score: -1276.117 best so far: -1061.997\n",
            "Iteration  300 : score: -1153.363 best so far: -931.343\n",
            "Iteration  400 : score: -1110.056 best so far: -929.59\n",
            "Iteration  500 : score: -1122.056 best so far: -929.59\n",
            "Iteration  600 : score: -1086.039 best so far: -929.59\n"
          ],
          "name": "stdout"
        },
        {
          "output_type": "display_data",
          "data": {
            "image/png": "[encoded data removed]",
            "text/plain": [
              "<Figure size 864x576 with 1 Axes>"
            ]
          },
          "metadata": {
            "tags": []
          }
        },
        {
          "output_type": "stream",
          "text": [
            "\n",
            "\n",
            "\n",
            "Score of the Decoded Message vs the True Message:\n",
            " LL of decoded message: -929.59\n",
            " LL of true message: -933.031\n",
            "\n",
            "\n",
            "Wrong letter in the predicted cipher:\n",
            " True: k, Predicted: z\n",
            " True: z, Predicted: k\n"
          ],
          "name": "stdout"
        }
      ]
    },
    {
      "cell_type": "code",
      "metadata": {
        "id": "rHjSLs-OU33M",
        "colab_type": "code",
        "colab": {
          "base_uri": "https://localhost:8080/",
          "height": 391
        },
        "outputId": "a96902a6-84ba-412b-fd6d-a41a94b271c2"
      },
      "source": [
        "# Print the final decoded message\n",
        "print(\"\\n\\nDecoded message:\\n\", textwrap.fill(decoded_message))\n",
        "print(\"\\nTrue message:\\n\", original_message)"
      ],
      "execution_count": 248,
      "outputs": [
        {
          "output_type": "stream",
          "text": [
            "\n",
            "\n",
            "Decoded message:\n",
            " i then lounged down the street and found  as i expected  that there\n",
            "was a mews in a lane which runs down by one wall of the garden  i lent\n",
            "the ostlers a hand in rubbing down their horses  and received in\n",
            "exchange twopence  a glass of half and half  two fills of shag tobacco\n",
            "and as much information as i could desire about miss adler  to say\n",
            "nothing of half a doken other people in the neighbourhood in whom i\n",
            "was not in the least interested  but whose biographies i was compelled\n",
            "to listen to\n",
            "\n",
            "True message:\n",
            " I then lounged down the street and found,\n",
            "as I expected, that there was a mews in a lane which runs down\n",
            "by one wall of the garden. I lent the ostlers a hand in rubbing\n",
            "down their horses, and received in exchange twopence, a glass of\n",
            "half-and-half, two fills of shag tobacco, and as much information\n",
            "as I could desire about Miss Adler, to say nothing of half a dozen\n",
            "other people in the neighbourhood in whom I was not in the least\n",
            "interested, but whose biographies I was compelled to listen to.\n",
            "\n"
          ],
          "name": "stdout"
        }
      ]
    },
    {
      "cell_type": "code",
      "metadata": {
        "id": "cZqTut0mU-6S",
        "colab_type": "code",
        "colab": {}
      },
      "source": [
        ""
      ],
      "execution_count": 0,
      "outputs": []
    },
    {
      "cell_type": "markdown",
      "metadata": {
        "id": "xmSR7OezgaRX",
        "colab_type": "text"
      },
      "source": [
        "As we can observed, the evolutionary algorithm performed quite well as it only failed two letters in discovering the True cipher. A possible reason for not discovering the whole cipher correctly is the fact that the letters *k* and *z* don't appear too often in the training text, therefore the probabilities with regards to these letters may not be the more accurate"
      ]
    },
    {
      "cell_type": "code",
      "metadata": {
        "id": "gBBf4L3AhAi-",
        "colab_type": "code",
        "colab": {}
      },
      "source": [
        ""
      ],
      "execution_count": 0,
      "outputs": []
    }
  ]
}