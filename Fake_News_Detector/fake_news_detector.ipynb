{
 "cells": [
  {
   "cell_type": "markdown",
   "metadata": {},
   "source": [
    "\n",
    "<font size=\"5\">Fake News Detector</font>\n",
    "\n",
    "A Naive Bayes classifier will be used to try to detect fake news.\n",
    "\n",
    "This correspond to a Kaggle dataset, from which the data was downloaded (https://www.kaggle.com/c/fake-news/).\n",
    "\n",
    "The score obtained in the challenge was **0.97** of accuracy!\n",
    "\n",
    "Some EDA and data preprocessing were performed, namely: Classes balancing, Handling of Missing Data, Text cleaning, Analysis of the relationship between author and news veracity and Analysis of the relationship between text length and news veracity.\n"
   ]
  },
  {
   "cell_type": "code",
   "execution_count": 314,
   "metadata": {},
   "outputs": [],
   "source": [
    "import pandas as pd\n",
    "import numpy as np\n",
    "\n",
    "import matplotlib.pyplot as plt\n",
    "\n",
    "from sklearn.feature_extraction.text import TfidfVectorizer, CountVectorizer\n",
    "from sklearn.naive_bayes import MultinomialNB\n",
    "\n",
    "from sklearn.metrics import recall_score, precision_score\n",
    "\n",
    "import scipy.sparse as sp\n",
    "\n",
    "import csv\n",
    "\n",
    "\n",
    "pd.set_option('mode.chained_assignment', None)\n"
   ]
  },
  {
   "cell_type": "code",
   "execution_count": null,
   "metadata": {},
   "outputs": [],
   "source": []
  },
  {
   "cell_type": "code",
   "execution_count": 95,
   "metadata": {},
   "outputs": [
    {
     "data": {
      "text/html": [
       "<div>\n",
       "<style scoped>\n",
       "    .dataframe tbody tr th:only-of-type {\n",
       "        vertical-align: middle;\n",
       "    }\n",
       "\n",
       "    .dataframe tbody tr th {\n",
       "        vertical-align: top;\n",
       "    }\n",
       "\n",
       "    .dataframe thead th {\n",
       "        text-align: right;\n",
       "    }\n",
       "</style>\n",
       "<table border=\"1\" class=\"dataframe\">\n",
       "  <thead>\n",
       "    <tr style=\"text-align: right;\">\n",
       "      <th></th>\n",
       "      <th>id</th>\n",
       "      <th>title</th>\n",
       "      <th>author</th>\n",
       "      <th>text</th>\n",
       "      <th>label</th>\n",
       "    </tr>\n",
       "  </thead>\n",
       "  <tbody>\n",
       "    <tr>\n",
       "      <th>0</th>\n",
       "      <td>0</td>\n",
       "      <td>House Dem Aide: We Didn’t Even See Comey’s Let...</td>\n",
       "      <td>Darrell Lucus</td>\n",
       "      <td>House Dem Aide: We Didn’t Even See Comey’s Let...</td>\n",
       "      <td>1</td>\n",
       "    </tr>\n",
       "    <tr>\n",
       "      <th>1</th>\n",
       "      <td>1</td>\n",
       "      <td>FLYNN: Hillary Clinton, Big Woman on Campus - ...</td>\n",
       "      <td>Daniel J. Flynn</td>\n",
       "      <td>Ever get the feeling your life circles the rou...</td>\n",
       "      <td>0</td>\n",
       "    </tr>\n",
       "    <tr>\n",
       "      <th>2</th>\n",
       "      <td>2</td>\n",
       "      <td>Why the Truth Might Get You Fired</td>\n",
       "      <td>Consortiumnews.com</td>\n",
       "      <td>Why the Truth Might Get You Fired October 29, ...</td>\n",
       "      <td>1</td>\n",
       "    </tr>\n",
       "    <tr>\n",
       "      <th>3</th>\n",
       "      <td>3</td>\n",
       "      <td>15 Civilians Killed In Single US Airstrike Hav...</td>\n",
       "      <td>Jessica Purkiss</td>\n",
       "      <td>Videos 15 Civilians Killed In Single US Airstr...</td>\n",
       "      <td>1</td>\n",
       "    </tr>\n",
       "    <tr>\n",
       "      <th>4</th>\n",
       "      <td>4</td>\n",
       "      <td>Iranian woman jailed for fictional unpublished...</td>\n",
       "      <td>Howard Portnoy</td>\n",
       "      <td>Print \\nAn Iranian woman has been sentenced to...</td>\n",
       "      <td>1</td>\n",
       "    </tr>\n",
       "  </tbody>\n",
       "</table>\n",
       "</div>"
      ],
      "text/plain": [
       "   id                                              title              author  \\\n",
       "0   0  House Dem Aide: We Didn’t Even See Comey’s Let...       Darrell Lucus   \n",
       "1   1  FLYNN: Hillary Clinton, Big Woman on Campus - ...     Daniel J. Flynn   \n",
       "2   2                  Why the Truth Might Get You Fired  Consortiumnews.com   \n",
       "3   3  15 Civilians Killed In Single US Airstrike Hav...     Jessica Purkiss   \n",
       "4   4  Iranian woman jailed for fictional unpublished...      Howard Portnoy   \n",
       "\n",
       "                                                text  label  \n",
       "0  House Dem Aide: We Didn’t Even See Comey’s Let...      1  \n",
       "1  Ever get the feeling your life circles the rou...      0  \n",
       "2  Why the Truth Might Get You Fired October 29, ...      1  \n",
       "3  Videos 15 Civilians Killed In Single US Airstr...      1  \n",
       "4  Print \\nAn Iranian woman has been sentenced to...      1  "
      ]
     },
     "execution_count": 95,
     "metadata": {},
     "output_type": "execute_result"
    }
   ],
   "source": [
    "#Load data\n",
    "\n",
    "train_df = pd.read_csv('data/train.csv')\n",
    "test_df = pd.read_csv('data/test.csv')\n",
    "\n",
    "train_df.head()"
   ]
  },
  {
   "cell_type": "code",
   "execution_count": 326,
   "metadata": {},
   "outputs": [
    {
     "name": "stdout",
     "output_type": "stream",
     "text": [
      "Example of a fake new title:\n"
     ]
    },
    {
     "data": {
      "text/plain": [
       "'15 Civilians Killed In Single US Airstrike Have Been Identified'"
      ]
     },
     "execution_count": 326,
     "metadata": {},
     "output_type": "execute_result"
    }
   ],
   "source": [
    "print('Example of a fake new title:')\n",
    "train_df[train_df['label'] == 1].iloc[2]['title']"
   ]
  },
  {
   "cell_type": "code",
   "execution_count": 325,
   "metadata": {},
   "outputs": [
    {
     "name": "stdout",
     "output_type": "stream",
     "text": [
      "Example of a true new title:\n"
     ]
    },
    {
     "data": {
      "text/plain": [
       "'Benoît Hamon Wins French Socialist Party’s Presidential Nomination - The New York Times'"
      ]
     },
     "execution_count": 325,
     "metadata": {},
     "output_type": "execute_result"
    }
   ],
   "source": [
    "print('Example of a true new title:')\n",
    "train_df[train_df['label'] == 0].iloc[2]['title']"
   ]
  },
  {
   "cell_type": "code",
   "execution_count": null,
   "metadata": {},
   "outputs": [],
   "source": []
  },
  {
   "cell_type": "markdown",
   "metadata": {},
   "source": [
    "## Exploratory Data Analysis"
   ]
  },
  {
   "cell_type": "markdown",
   "metadata": {},
   "source": [
    "### Classes balancing"
   ]
  },
  {
   "cell_type": "code",
   "execution_count": 96,
   "metadata": {},
   "outputs": [
    {
     "data": {
      "image/png": "[encoded data removed]",
      "text/plain": [
       "<Figure size 432x288 with 1 Axes>"
      ]
     },
     "metadata": {},
     "output_type": "display_data"
    }
   ],
   "source": [
    "train_df['label'].hist()\n",
    "plt.show()\n"
   ]
  },
  {
   "cell_type": "markdown",
   "metadata": {},
   "source": [
    "The classes are well balanced, meaning that the number of fake news is similar to the number of true news"
   ]
  },
  {
   "cell_type": "code",
   "execution_count": null,
   "metadata": {},
   "outputs": [],
   "source": []
  },
  {
   "cell_type": "markdown",
   "metadata": {},
   "source": [
    "### Missing Data"
   ]
  },
  {
   "cell_type": "code",
   "execution_count": 317,
   "metadata": {},
   "outputs": [
    {
     "name": "stdout",
     "output_type": "stream",
     "text": [
      "Percentage Nans:  0.123\n"
     ]
    },
    {
     "data": {
      "text/plain": [
       "id           0\n",
       "title      558\n",
       "author    1957\n",
       "text        39\n",
       "label        0\n",
       "dtype: int64"
      ]
     },
     "execution_count": 317,
     "metadata": {},
     "output_type": "execute_result"
    }
   ],
   "source": [
    "print('Percentage Nans: ', round(train_df.isna().sum().sum()/len(train_df), 3))\n",
    "train_df.isna().sum()"
   ]
  },
  {
   "cell_type": "code",
   "execution_count": 98,
   "metadata": {},
   "outputs": [
    {
     "data": {
      "text/html": [
       "<div>\n",
       "<style scoped>\n",
       "    .dataframe tbody tr th:only-of-type {\n",
       "        vertical-align: middle;\n",
       "    }\n",
       "\n",
       "    .dataframe tbody tr th {\n",
       "        vertical-align: top;\n",
       "    }\n",
       "\n",
       "    .dataframe thead th {\n",
       "        text-align: right;\n",
       "    }\n",
       "</style>\n",
       "<table border=\"1\" class=\"dataframe\">\n",
       "  <thead>\n",
       "    <tr style=\"text-align: right;\">\n",
       "      <th></th>\n",
       "      <th>id</th>\n",
       "      <th>title</th>\n",
       "      <th>author</th>\n",
       "      <th>text</th>\n",
       "      <th>label</th>\n",
       "    </tr>\n",
       "  </thead>\n",
       "  <tbody>\n",
       "    <tr>\n",
       "      <th>6</th>\n",
       "      <td>6</td>\n",
       "      <td>Life: Life Of Luxury: Elton John’s 6 Favorite ...</td>\n",
       "      <td>NaN</td>\n",
       "      <td>Ever wonder how Britain’s most iconic pop pian...</td>\n",
       "      <td>1</td>\n",
       "    </tr>\n",
       "    <tr>\n",
       "      <th>8</th>\n",
       "      <td>8</td>\n",
       "      <td>Excerpts From a Draft Script for Donald Trump’...</td>\n",
       "      <td>NaN</td>\n",
       "      <td>Donald J. Trump is scheduled to make a highly ...</td>\n",
       "      <td>0</td>\n",
       "    </tr>\n",
       "    <tr>\n",
       "      <th>20</th>\n",
       "      <td>20</td>\n",
       "      <td>News: Hope For The GOP: A Nude Paul Ryan Has J...</td>\n",
       "      <td>NaN</td>\n",
       "      <td>Email \\nSince Donald Trump entered the electio...</td>\n",
       "      <td>1</td>\n",
       "    </tr>\n",
       "    <tr>\n",
       "      <th>23</th>\n",
       "      <td>23</td>\n",
       "      <td>Massachusetts Cop’s Wife Busted for Pinning Fa...</td>\n",
       "      <td>NaN</td>\n",
       "      <td>Massachusetts Cop’s Wife Busted for Pinning Fa...</td>\n",
       "      <td>1</td>\n",
       "    </tr>\n",
       "    <tr>\n",
       "      <th>31</th>\n",
       "      <td>31</td>\n",
       "      <td>Israel is Becoming Pivotal to China’s Mid-East...</td>\n",
       "      <td>NaN</td>\n",
       "      <td>Country: Israel While China is silently playin...</td>\n",
       "      <td>1</td>\n",
       "    </tr>\n",
       "    <tr>\n",
       "      <th>...</th>\n",
       "      <td>...</td>\n",
       "      <td>...</td>\n",
       "      <td>...</td>\n",
       "      <td>...</td>\n",
       "      <td>...</td>\n",
       "    </tr>\n",
       "    <tr>\n",
       "      <th>20745</th>\n",
       "      <td>20745</td>\n",
       "      <td>Thomas Frank Explores Whether Hillary Clinton ...</td>\n",
       "      <td>NaN</td>\n",
       "      <td>Thomas Frank Explores Whether Hillary Clinton ...</td>\n",
       "      <td>1</td>\n",
       "    </tr>\n",
       "    <tr>\n",
       "      <th>20768</th>\n",
       "      <td>20768</td>\n",
       "      <td>Osama bin Laden’s older brother rents out luxu...</td>\n",
       "      <td>NaN</td>\n",
       "      <td>Osama bin Laden’s older brother rents out luxu...</td>\n",
       "      <td>1</td>\n",
       "    </tr>\n",
       "    <tr>\n",
       "      <th>20771</th>\n",
       "      <td>20771</td>\n",
       "      <td>NaN</td>\n",
       "      <td>Letsbereal</td>\n",
       "      <td>DYN's Statement on Last Week's Botnet Attack h...</td>\n",
       "      <td>1</td>\n",
       "    </tr>\n",
       "    <tr>\n",
       "      <th>20772</th>\n",
       "      <td>20772</td>\n",
       "      <td>NaN</td>\n",
       "      <td>beersession</td>\n",
       "      <td>Kinda reminds me of when Carter gave away the ...</td>\n",
       "      <td>1</td>\n",
       "    </tr>\n",
       "    <tr>\n",
       "      <th>20786</th>\n",
       "      <td>20786</td>\n",
       "      <td>Government Forces Advancing at Damascus-Aleppo...</td>\n",
       "      <td>NaN</td>\n",
       "      <td>#FROMTHEFRONT #MAPS 22.11.2016 - 1,361 views 5...</td>\n",
       "      <td>1</td>\n",
       "    </tr>\n",
       "  </tbody>\n",
       "</table>\n",
       "<p>2515 rows × 5 columns</p>\n",
       "</div>"
      ],
      "text/plain": [
       "          id                                              title       author  \\\n",
       "6          6  Life: Life Of Luxury: Elton John’s 6 Favorite ...          NaN   \n",
       "8          8  Excerpts From a Draft Script for Donald Trump’...          NaN   \n",
       "20        20  News: Hope For The GOP: A Nude Paul Ryan Has J...          NaN   \n",
       "23        23  Massachusetts Cop’s Wife Busted for Pinning Fa...          NaN   \n",
       "31        31  Israel is Becoming Pivotal to China’s Mid-East...          NaN   \n",
       "...      ...                                                ...          ...   \n",
       "20745  20745  Thomas Frank Explores Whether Hillary Clinton ...          NaN   \n",
       "20768  20768  Osama bin Laden’s older brother rents out luxu...          NaN   \n",
       "20771  20771                                                NaN   Letsbereal   \n",
       "20772  20772                                                NaN  beersession   \n",
       "20786  20786  Government Forces Advancing at Damascus-Aleppo...          NaN   \n",
       "\n",
       "                                                    text  label  \n",
       "6      Ever wonder how Britain’s most iconic pop pian...      1  \n",
       "8      Donald J. Trump is scheduled to make a highly ...      0  \n",
       "20     Email \\nSince Donald Trump entered the electio...      1  \n",
       "23     Massachusetts Cop’s Wife Busted for Pinning Fa...      1  \n",
       "31     Country: Israel While China is silently playin...      1  \n",
       "...                                                  ...    ...  \n",
       "20745  Thomas Frank Explores Whether Hillary Clinton ...      1  \n",
       "20768  Osama bin Laden’s older brother rents out luxu...      1  \n",
       "20771  DYN's Statement on Last Week's Botnet Attack h...      1  \n",
       "20772  Kinda reminds me of when Carter gave away the ...      1  \n",
       "20786  #FROMTHEFRONT #MAPS 22.11.2016 - 1,361 views 5...      1  \n",
       "\n",
       "[2515 rows x 5 columns]"
      ]
     },
     "execution_count": 98,
     "metadata": {},
     "output_type": "execute_result"
    }
   ],
   "source": [
    "train_df[train_df.isna().any(axis=1)]"
   ]
  },
  {
   "cell_type": "markdown",
   "metadata": {},
   "source": [
    "As we can see, some columns have Nans, thus they need to be replaced or removed:\n",
    "- ***title***: As the number of Nans in the title column is relatively small and it is important for identifying fake news, the news with Nans in the title will be **removed**.\n",
    "- ***text***: Similarly to *title* column, the *text* column with Nans will be **removed** as the text is important to detect if news are fake or not.\n",
    "- ***author***: In this case, as *author* is not the most significant field in detecting fake news and there are a big number of news without it, all the news with Nans will be replaced by **unknown author**.\n"
   ]
  },
  {
   "cell_type": "code",
   "execution_count": 99,
   "metadata": {},
   "outputs": [
    {
     "name": "stdout",
     "output_type": "stream",
     "text": [
      "Number of Nans: 0\n"
     ]
    }
   ],
   "source": [
    "#Handle Missing data\n",
    "\n",
    "#drop rows with Nans on title or text\n",
    "train_df = train_df[~train_df[['title', 'text']].isna().any(axis=1)]\n",
    "\n",
    "#fill Nan author field with default\n",
    "train_df[['author']] = train_df[['author']].fillna('Unknown author')\n",
    "\n",
    "print(\"Number of Nans: {}\".format(train_df.isna().sum().sum()))"
   ]
  },
  {
   "cell_type": "markdown",
   "metadata": {},
   "source": [
    "### Clean Strange characters and punctuation"
   ]
  },
  {
   "cell_type": "code",
   "execution_count": 101,
   "metadata": {},
   "outputs": [],
   "source": [
    "train_df['text'] = train_df['text'].apply(lambda x: x.replace(\"\\n\", \"\"))\n",
    "train_df['text'] = train_df['text'].apply(lambda x: x.translate(str.maketrans('', '', string.punctuation)))"
   ]
  },
  {
   "cell_type": "code",
   "execution_count": null,
   "metadata": {},
   "outputs": [],
   "source": []
  },
  {
   "cell_type": "markdown",
   "metadata": {},
   "source": [
    "### Analysis of the relationship between author and news veracity"
   ]
  },
  {
   "cell_type": "code",
   "execution_count": 121,
   "metadata": {},
   "outputs": [
    {
     "name": "stdout",
     "output_type": "stream",
     "text": [
      "Authors who wrote fake news, with more than 20 written news:\n",
      " ['-NO AUTHOR-', 'Aaron Kesel', 'Activist Post', 'Admin', 'Admin - Orissa', 'Alex Ansary', 'Amanda Froelich', 'Amy Moreno', 'Andrew Anglin', 'Arnaldo Rodgers', 'Arnold Monteverde (noreply@blogger.com)', 'Author', 'BareNakedIslam', 'Brianna Acuesta', 'C.E. Dyer', 'Colin Taylor', 'Consortiumnews.com', 'Contributing Author', 'Corbett', 'Daily Bell Staff', 'Daisy Luther', 'Daniel Greenfield', 'Dave Hodges', 'David Stockman', 'Dikran Arakelian (noreply@blogger.com)', 'Dr. Patrick Slattery', 'EdJenner', 'Eddy Lavine', 'Editor', 'Edmondo Burr', 'Geoffrey Grider', 'Gerry McBride', 'Gillian', 'Grant Stern', 'Guest', 'Heather Callaghan', 'Henry Wolff', 'Howard Portnoy', 'IWB', 'Iron Sheik', 'Jafe Arnoldski (noreply@blogger.com)', 'Jameson Parker', 'Jason Ditz', 'Jason Easley', 'Julius Hubris', 'Kaitlyn Stegall', 'King World News', 'Lance Schuttler', 'Mac Slavo', 'Madeline', 'Michael Snyder', 'Mike Rivero', 'No Author', 'Pakalert', 'Paul Craig Roberts', 'Poke Staff', 'Quest', 'REALdeal', 'RT', 'Redacción', 'Sausage Machine', 'Sean Adl-Tabatabai', 'Starkman', 'TASS', 'The Conservative Millennial', 'The Doc', 'The European Union Times', 'The Saker', 'Truth Broadcast Network', 'WakingTimes', 'WashingtonsBlog', 'Yves Smith', 'admin', 'b', 'beforeitsnews.com', 'dailouk', 'hqanon', 'noreply@blogger.com (Alexander Light)', 'noreply@blogger.com (Der Postillon)', 'pcr3', 'shorty', 'stevew', 'wmw_admin']\n"
     ]
    }
   ],
   "source": [
    "authors_fake = []\n",
    "for ind, data in train_df.groupby('author'):\n",
    "    n_pos = len(data[data['label'] == 1])/len(data)\n",
    "    n_neg = len(data[data['label'] == 0])/len(data)\n",
    "    \n",
    "    if n_pos == 1 and len(data) > 20:\n",
    "        authors_fake.append(ind)\n",
    "        \n",
    "print(\"Authors who wrote fake news, with more than 20 written news:\\n\", authors_fake)"
   ]
  },
  {
   "cell_type": "code",
   "execution_count": null,
   "metadata": {},
   "outputs": [],
   "source": []
  },
  {
   "cell_type": "markdown",
   "metadata": {},
   "source": [
    "### Analysis of the relationship between text length and news veracity"
   ]
  },
  {
   "cell_type": "code",
   "execution_count": 182,
   "metadata": {},
   "outputs": [],
   "source": [
    "train_df['text_length'] = train_df['text'].apply(lambda x: len(x.split(\" \")))\n",
    "train_df['binning_length'] = pd.qcut(train_df['text_length'], 15)"
   ]
  },
  {
   "cell_type": "code",
   "execution_count": 183,
   "metadata": {},
   "outputs": [
    {
     "data": {
      "image/png": "[encoded data removed]",
      "text/plain": [
       "<Figure size 432x288 with 1 Axes>"
      ]
     },
     "metadata": {},
     "output_type": "display_data"
    },
    {
     "data": {
      "text/plain": [
       "binning_length\n",
       "(0.999, 102.0]       1355\n",
       "(102.0, 179.0]       1361\n",
       "(179.0, 245.0]       1338\n",
       "(245.0, 312.0]       1347\n",
       "(312.0, 375.0]       1341\n",
       "(375.0, 446.0]       1346\n",
       "(446.0, 535.0]       1345\n",
       "(535.0, 641.4]       1342\n",
       "(641.4, 765.0]       1352\n",
       "(765.0, 901.0]       1342\n",
       "(901.0, 1049.0]      1351\n",
       "(1049.0, 1204.0]     1349\n",
       "(1204.0, 1375.0]     1342\n",
       "(1375.0, 1718.0]     1346\n",
       "(1718.0, 24234.0]    1346\n",
       "Name: label, dtype: int64"
      ]
     },
     "execution_count": 183,
     "metadata": {},
     "output_type": "execute_result"
    }
   ],
   "source": [
    "train_df['text_length'].hist()\n",
    "plt.show()\n",
    "\n",
    "train_df.groupby(['binning_length'])['label'].count()"
   ]
  },
  {
   "cell_type": "code",
   "execution_count": 184,
   "metadata": {},
   "outputs": [
    {
     "data": {
      "image/png": "[encoded data removed]",
      "text/plain": [
       "<Figure size 1080x720 with 1 Axes>"
      ]
     },
     "metadata": {},
     "output_type": "display_data"
    }
   ],
   "source": [
    "plt.figure(figsize=(15, 10))\n",
    "train_df.groupby(['binning_length'])['label'].sum().plot()\n",
    "plt.show()\n"
   ]
  },
  {
   "cell_type": "markdown",
   "metadata": {},
   "source": [
    "By seeing the graph above, generally we would conclude that the lengthier the text the higher the probability of being legit news, however in the final end there is a unexpected increase in the number of fake news. Nevertheless, the text length should be a relevant feature to determine the veracity of news."
   ]
  },
  {
   "cell_type": "code",
   "execution_count": null,
   "metadata": {},
   "outputs": [],
   "source": []
  },
  {
   "cell_type": "markdown",
   "metadata": {},
   "source": [
    "## Create a pipeline to preprocess data\n",
    "\n",
    "The data will be loaded again and be processed using a data pipeline built based on the insights obtained aboved from the EDA"
   ]
  },
  {
   "cell_type": "code",
   "execution_count": 267,
   "metadata": {},
   "outputs": [],
   "source": [
    "train_df = pd.read_csv('data/train.csv')\n",
    "test_df = pd.read_csv('data/test.csv')"
   ]
  },
  {
   "cell_type": "code",
   "execution_count": 268,
   "metadata": {},
   "outputs": [],
   "source": [
    "#auxiliary functions, created based on the EDA performed above\n",
    "\n",
    "#missing data\n",
    "def handle_missing_data(df):\n",
    "    #drop rows with Nans on title or text\n",
    "    df = df[~df[['title', 'text']].isna().any(axis=1)]\n",
    "\n",
    "    #fill Nan author field with default\n",
    "    df[['author']] = df[['author']].fillna('Unknown author')\n",
    "\n",
    "    return df\n",
    "\n",
    "\n",
    "#feature engineering\n",
    "def cleaning_punctuation(df):\n",
    "    df['text'] = df['text'].apply(lambda x: x.replace(\"\\n\", \"\"))\n",
    "    df['text'] = df['text'].apply(lambda x: x.translate(str.maketrans('', '', string.punctuation)))\n",
    "    return df\n",
    "\n",
    "def text_length(df):\n",
    "    df.loc[:, 'text_length'] = df['text'].apply(lambda x: len(x.split(\" \")))\n",
    "    \n",
    "    return df\n"
   ]
  },
  {
   "cell_type": "code",
   "execution_count": 269,
   "metadata": {},
   "outputs": [
    {
     "data": {
      "text/html": [
       "<div>\n",
       "<style scoped>\n",
       "    .dataframe tbody tr th:only-of-type {\n",
       "        vertical-align: middle;\n",
       "    }\n",
       "\n",
       "    .dataframe tbody tr th {\n",
       "        vertical-align: top;\n",
       "    }\n",
       "\n",
       "    .dataframe thead th {\n",
       "        text-align: right;\n",
       "    }\n",
       "</style>\n",
       "<table border=\"1\" class=\"dataframe\">\n",
       "  <thead>\n",
       "    <tr style=\"text-align: right;\">\n",
       "      <th></th>\n",
       "      <th>id</th>\n",
       "      <th>title</th>\n",
       "      <th>author</th>\n",
       "      <th>text</th>\n",
       "      <th>text_length</th>\n",
       "    </tr>\n",
       "  </thead>\n",
       "  <tbody>\n",
       "    <tr>\n",
       "      <th>0</th>\n",
       "      <td>0</td>\n",
       "      <td>House Dem Aide: We Didn’t Even See Comey’s Let...</td>\n",
       "      <td>Darrell Lucus</td>\n",
       "      <td>House Dem Aide We Didn’t Even See Comey’s Lett...</td>\n",
       "      <td>820</td>\n",
       "    </tr>\n",
       "    <tr>\n",
       "      <th>1</th>\n",
       "      <td>1</td>\n",
       "      <td>FLYNN: Hillary Clinton, Big Woman on Campus - ...</td>\n",
       "      <td>Daniel J. Flynn</td>\n",
       "      <td>Ever get the feeling your life circles the rou...</td>\n",
       "      <td>727</td>\n",
       "    </tr>\n",
       "    <tr>\n",
       "      <th>2</th>\n",
       "      <td>2</td>\n",
       "      <td>Why the Truth Might Get You Fired</td>\n",
       "      <td>Consortiumnews.com</td>\n",
       "      <td>Why the Truth Might Get You Fired October 29 2...</td>\n",
       "      <td>1266</td>\n",
       "    </tr>\n",
       "    <tr>\n",
       "      <th>3</th>\n",
       "      <td>3</td>\n",
       "      <td>15 Civilians Killed In Single US Airstrike Hav...</td>\n",
       "      <td>Jessica Purkiss</td>\n",
       "      <td>Videos 15 Civilians Killed In Single US Airstr...</td>\n",
       "      <td>559</td>\n",
       "    </tr>\n",
       "    <tr>\n",
       "      <th>4</th>\n",
       "      <td>4</td>\n",
       "      <td>Iranian woman jailed for fictional unpublished...</td>\n",
       "      <td>Howard Portnoy</td>\n",
       "      <td>Print An Iranian woman has been sentenced to s...</td>\n",
       "      <td>154</td>\n",
       "    </tr>\n",
       "  </tbody>\n",
       "</table>\n",
       "</div>"
      ],
      "text/plain": [
       "   id                                              title              author  \\\n",
       "0   0  House Dem Aide: We Didn’t Even See Comey’s Let...       Darrell Lucus   \n",
       "1   1  FLYNN: Hillary Clinton, Big Woman on Campus - ...     Daniel J. Flynn   \n",
       "2   2                  Why the Truth Might Get You Fired  Consortiumnews.com   \n",
       "3   3  15 Civilians Killed In Single US Airstrike Hav...     Jessica Purkiss   \n",
       "4   4  Iranian woman jailed for fictional unpublished...      Howard Portnoy   \n",
       "\n",
       "                                                text  text_length  \n",
       "0  House Dem Aide We Didn’t Even See Comey’s Lett...          820  \n",
       "1  Ever get the feeling your life circles the rou...          727  \n",
       "2  Why the Truth Might Get You Fired October 29 2...         1266  \n",
       "3  Videos 15 Civilians Killed In Single US Airstr...          559  \n",
       "4  Print An Iranian woman has been sentenced to s...          154  "
      ]
     },
     "execution_count": 269,
     "metadata": {},
     "output_type": "execute_result"
    }
   ],
   "source": [
    "#Preprocess data\n",
    "\n",
    "X_train = (\n",
    "    train_df\n",
    "    .pipe(handle_missing_data)\n",
    "    .pipe(cleaning_punctuation)\n",
    "    .pipe(text_length)\n",
    ")\n",
    "\n",
    "X_test = (\n",
    "    test_df\n",
    "    .pipe(handle_missing_data)\n",
    "    .pipe(cleaning_punctuation)\n",
    "    .pipe(text_length)\n",
    ")\n",
    "\n",
    "y_train = X_train['label']\n",
    "X_train.drop(['label'], axis = 1, inplace = True)\n",
    "\n",
    "X_train.head()"
   ]
  },
  {
   "cell_type": "code",
   "execution_count": null,
   "metadata": {},
   "outputs": [],
   "source": []
  },
  {
   "cell_type": "markdown",
   "metadata": {},
   "source": [
    "**TF-IDF**"
   ]
  },
  {
   "cell_type": "code",
   "execution_count": 270,
   "metadata": {},
   "outputs": [],
   "source": [
    "# applying TF-IDF for the text fields: title, author and text\n",
    "def reconstruct_input(X_train, X_test):\n",
    "    \n",
    "    count_model_1 = TfidfVectorizer(decode_error='ignore', stop_words='english', max_features=1000).fit(X_train['title'])\n",
    "    count_model_2 = TfidfVectorizer(decode_error='ignore', stop_words='english', max_features=1000).fit(X_train['author'])\n",
    "    count_model_3 = TfidfVectorizer(decode_error='ignore', stop_words='english', max_features=1000).fit(X_train['text'])\n",
    "\n",
    "    X_train = sp.hstack([count_model_1.transform(X_train['title']), \n",
    "                      count_model_2.transform(X_train['author']),\n",
    "                      count_model_3.transform(X_train['text'])])\n",
    "    \n",
    "    X_test = sp.hstack([count_model_1.transform(X_test['title']), \n",
    "                      count_model_2.transform(X_test['author']),\n",
    "                      count_model_3.transform(X_test['text'])])\n",
    "\n",
    "    return X_train, X_test"
   ]
  },
  {
   "cell_type": "code",
   "execution_count": null,
   "metadata": {},
   "outputs": [],
   "source": []
  },
  {
   "cell_type": "code",
   "execution_count": 318,
   "metadata": {},
   "outputs": [
    {
     "name": "stdout",
     "output_type": "stream",
     "text": [
      "Training Accuracy: 0.981\n",
      "Training Precision: 0.995\n",
      "Training Recall: 0.966\n"
     ]
    }
   ],
   "source": [
    "\n",
    "X_train_cnt, X_test_cnt = reconstruct_input(X_train.copy(), X_test.copy())\n",
    "\n",
    "model = MultinomialNB()\n",
    "model.fit(X_train_cnt, y_train)\n",
    "\n",
    "print(\"Training Accuracy:\", round(model.score(X_train_cnt, y_train), 3))\n",
    "print(\"Training Precision:\", round(precision_score(y_train, model.predict(X_train_cnt)), 3))\n",
    "print(\"Training Recall:\", round(recall_score(y_train, model.predict(X_train_cnt)), 3))\n",
    "\n",
    "results = model.predict(X_test_cnt)"
   ]
  },
  {
   "cell_type": "markdown",
   "metadata": {},
   "source": [
    "The training *accuracy*, *precision* and *recall* have high values (closer to 1), although it can also be a sign of overfitting."
   ]
  },
  {
   "cell_type": "markdown",
   "metadata": {},
   "source": [
    "### Extract results to csv"
   ]
  },
  {
   "cell_type": "code",
   "execution_count": 312,
   "metadata": {},
   "outputs": [],
   "source": [
    "with open('results.csv', 'w', newline='') as file:\n",
    "    writer = csv.writer(file)\n",
    "    writer.writerow([\"id\", \"label\"])\n",
    "    \n",
    "    X_test_inds = list(X_test['id'].values)\n",
    "    \n",
    "    for ind, i in test_df['id'].iteritems():\n",
    "        #if the news were removed due to missing author or title, then it is labeled as fake news\n",
    "        if i not in X_test_inds:\n",
    "            writer.writerow([i, 1])\n",
    "        \n",
    "        else:\n",
    "            writer.writerow([i, results[X_test_inds.index(i)]])\n"
   ]
  },
  {
   "cell_type": "code",
   "execution_count": null,
   "metadata": {},
   "outputs": [],
   "source": []
  },
  {
   "cell_type": "markdown",
   "metadata": {},
   "source": [
    "The obtained results were quite satisfying, as seen by the results of the training metrics and also the overall score on this challenge.\n",
    "\n",
    "Nevertheless, there are some aspects that may improve the results (in future work). The text length may possibly be relevant for the fake news detection (as seen above), thus it may be useful to incorporate this information as a new feature in the classifier. Also, the filtering of fake news based on the authors that only posted fake news could improve the results."
   ]
  },
  {
   "cell_type": "code",
   "execution_count": null,
   "metadata": {},
   "outputs": [],
   "source": []
  }
 ],
 "metadata": {
  "kernelspec": {
   "display_name": "Python 3",
   "language": "python",
   "name": "python3"
  },
  "language_info": {
   "codemirror_mode": {
    "name": "ipython",
    "version": 3
   },
   "file_extension": ".py",
   "mimetype": "text/x-python",
   "name": "python",
   "nbconvert_exporter": "python",
   "pygments_lexer": "ipython3",
   "version": "3.6.3"
  }
 },
 "nbformat": 4,
 "nbformat_minor": 4
}
